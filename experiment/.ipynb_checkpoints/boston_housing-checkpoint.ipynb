{
 "cells": [
  {
   "cell_type": "markdown",
   "metadata": {},
   "source": [
    "# Boston housing prediction\n",
    "\n",
    "参考了以下的程序   \n",
    "https://pchun.work/keras%e3%81%a7%e5%9b%9e%e5%b8%b0/\n"
   ]
  },
  {
   "cell_type": "code",
   "execution_count": 3,
   "metadata": {},
   "outputs": [],
   "source": [
    "import tensorflow.keras\n",
    "from tensorflow.keras.datasets import boston_housing"
   ]
  },
  {
   "cell_type": "code",
   "execution_count": 5,
   "metadata": {},
   "outputs": [
    {
     "name": "stdout",
     "output_type": "stream",
     "text": [
      "Downloading data from https://storage.googleapis.com/tensorflow/tf-keras-datasets/boston_housing.npz\n",
      "57344/57026 [==============================] - 0s 0us/step\n"
     ]
    }
   ],
   "source": [
    "(X_train, y_train), (X_test, y_test) = boston_housing.load_data()"
   ]
  },
  {
   "cell_type": "code",
   "execution_count": 6,
   "metadata": {},
   "outputs": [],
   "source": [
    "#トレーニングデータの正規化\n",
    "X_train_mean = X_train.mean(axis=0)\n",
    "X_train_std = X_train.std(axis=0)\n",
    "X_train -= X_train_mean\n",
    "X_train /= X_train_std\n",
    "\n",
    "y_train_mean = y_train.mean()\n",
    "y_train_std = y_train.std()\n",
    "y_train -= y_train_mean\n",
    "y_train /= y_train_std"
   ]
  },
  {
   "cell_type": "code",
   "execution_count": 7,
   "metadata": {},
   "outputs": [],
   "source": [
    "#テストデータの正規化\n",
    "X_test -= X_train_mean\n",
    "X_test /= X_train_std\n",
    "y_test -= y_train_mean\n",
    "y_test /= y_train_std"
   ]
  },
  {
   "cell_type": "code",
   "execution_count": 22,
   "metadata": {},
   "outputs": [
    {
     "data": {
      "text/plain": [
       "array([-0.27224633, -0.48361547, -0.43576161, -0.25683275, -0.1652266 ,\n",
       "       -0.1764426 ,  0.81306188,  0.1166983 , -0.62624905, -0.59517003,\n",
       "        1.14850044,  0.44807713,  0.8252202 ])"
      ]
     },
     "execution_count": 22,
     "metadata": {},
     "output_type": "execute_result"
    }
   ],
   "source": [
    "X_train[0]"
   ]
  },
  {
   "cell_type": "code",
   "execution_count": 8,
   "metadata": {},
   "outputs": [],
   "source": [
    "from tensorflow.keras.models import Sequential\n",
    "from tensorflow.keras.layers import Dense\n",
    "\n",
    "model = Sequential()\n",
    "model.add(Dense(64, activation='relu', input_shape=(X_train.shape[1],)))\n",
    "model.add(Dense(64, activation='relu'))\n",
    "model.add(Dense(1))"
   ]
  },
  {
   "cell_type": "code",
   "execution_count": 9,
   "metadata": {},
   "outputs": [
    {
     "name": "stdout",
     "output_type": "stream",
     "text": [
      "Model: \"sequential\"\n",
      "_________________________________________________________________\n",
      "Layer (type)                 Output Shape              Param #   \n",
      "=================================================================\n",
      "dense (Dense)                (None, 64)                896       \n",
      "_________________________________________________________________\n",
      "dense_1 (Dense)              (None, 64)                4160      \n",
      "_________________________________________________________________\n",
      "dense_2 (Dense)              (None, 1)                 65        \n",
      "=================================================================\n",
      "Total params: 5,121\n",
      "Trainable params: 5,121\n",
      "Non-trainable params: 0\n",
      "_________________________________________________________________\n"
     ]
    }
   ],
   "source": [
    "model.summary()\n",
    "# 13*64+64=896\n",
    "# 64*64+64=4160\n",
    "# 64*1+1=65\n",
    "# 本层的参数数量 = 输入通道数*输出通道数+输出通道数"
   ]
  },
  {
   "cell_type": "code",
   "execution_count": 23,
   "metadata": {},
   "outputs": [],
   "source": [
    "model.compile(optimizer='adam', \n",
    "              loss='mse', \n",
    "              metrics=['accuracy'])"
   ]
  },
  {
   "cell_type": "code",
   "execution_count": null,
   "metadata": {},
   "outputs": [
    {
     "name": "stdout",
     "output_type": "stream",
     "text": [
      "Train on 404 samples, validate on 102 samples\n",
      "Epoch 1/100\n",
      "404/404 [==============================] - 2s 5ms/sample - loss: 0.3470 - mae: 0.3803 - val_loss: 0.1696 - val_mae: 0.2874\n",
      "Epoch 2/100\n",
      "404/404 [==============================] - 1s 2ms/sample - loss: 0.1637 - mae: 0.2807 - val_loss: 0.2546 - val_mae: 0.3257\n",
      "Epoch 3/100\n",
      "404/404 [==============================] - 1s 2ms/sample - loss: 0.1365 - mae: 0.2581 - val_loss: 0.2057 - val_mae: 0.2959\n",
      "Epoch 4/100\n",
      "404/404 [==============================] - 1s 2ms/sample - loss: 0.1175 - mae: 0.2335 - val_loss: 0.1929 - val_mae: 0.2837\n",
      "Epoch 5/100\n",
      "404/404 [==============================] - 1s 2ms/sample - loss: 0.0966 - mae: 0.2250 - val_loss: 0.2053 - val_mae: 0.3026\n",
      "Epoch 6/100\n",
      "404/404 [==============================] - 1s 2ms/sample - loss: 0.0941 - mae: 0.2126 - val_loss: 0.1637 - val_mae: 0.2783\n",
      "Epoch 7/100\n",
      "404/404 [==============================] - 1s 2ms/sample - loss: 0.0835 - mae: 0.2024 - val_loss: 0.1959 - val_mae: 0.3051\n",
      "Epoch 8/100\n",
      "404/404 [==============================] - 1s 2ms/sample - loss: 0.0826 - mae: 0.1984 - val_loss: 0.1498 - val_mae: 0.2702\n",
      "Epoch 9/100\n",
      "404/404 [==============================] - 1s 2ms/sample - loss: 0.0778 - mae: 0.2001 - val_loss: 0.1720 - val_mae: 0.3007\n",
      "Epoch 10/100\n",
      "404/404 [==============================] - 1s 2ms/sample - loss: 0.0799 - mae: 0.1961 - val_loss: 0.1334 - val_mae: 0.2499\n",
      "Epoch 11/100\n",
      "404/404 [==============================] - 1s 2ms/sample - loss: 0.0681 - mae: 0.1918 - val_loss: 0.1708 - val_mae: 0.2818\n",
      "Epoch 12/100\n",
      "404/404 [==============================] - 1s 2ms/sample - loss: 0.0707 - mae: 0.1880 - val_loss: 0.1448 - val_mae: 0.2677\n",
      "Epoch 13/100\n",
      "404/404 [==============================] - 1s 2ms/sample - loss: 0.0724 - mae: 0.1871 - val_loss: 0.1325 - val_mae: 0.2703\n",
      "Epoch 14/100\n",
      "404/404 [==============================] - 1s 2ms/sample - loss: 0.0541 - mae: 0.1736 - val_loss: 0.1421 - val_mae: 0.2727\n",
      "Epoch 15/100\n",
      "404/404 [==============================] - 1s 2ms/sample - loss: 0.0581 - mae: 0.1759 - val_loss: 0.1328 - val_mae: 0.2564\n",
      "Epoch 16/100\n",
      "404/404 [==============================] - 1s 2ms/sample - loss: 0.0553 - mae: 0.1734 - val_loss: 0.1278 - val_mae: 0.2552\n",
      "Epoch 17/100\n",
      "404/404 [==============================] - 1s 2ms/sample - loss: 0.0504 - mae: 0.1613 - val_loss: 0.1223 - val_mae: 0.2595\n",
      "Epoch 18/100\n",
      "404/404 [==============================] - 1s 2ms/sample - loss: 0.0521 - mae: 0.1716 - val_loss: 0.1547 - val_mae: 0.2770\n",
      "Epoch 19/100\n",
      "404/404 [==============================] - 1s 2ms/sample - loss: 0.0487 - mae: 0.1594 - val_loss: 0.1728 - val_mae: 0.2996\n",
      "Epoch 20/100\n",
      "404/404 [==============================] - 1s 2ms/sample - loss: 0.0627 - mae: 0.1731 - val_loss: 0.1124 - val_mae: 0.2429\n",
      "Epoch 21/100\n",
      "404/404 [==============================] - 1s 2ms/sample - loss: 0.0484 - mae: 0.1595 - val_loss: 0.1228 - val_mae: 0.2556\n",
      "Epoch 22/100\n",
      "404/404 [==============================] - 1s 2ms/sample - loss: 0.0520 - mae: 0.1620 - val_loss: 0.1148 - val_mae: 0.2518\n",
      "Epoch 23/100\n",
      "404/404 [==============================] - 1s 2ms/sample - loss: 0.0512 - mae: 0.1548 - val_loss: 0.1181 - val_mae: 0.2590\n",
      "Epoch 24/100\n",
      "404/404 [==============================] - 1s 2ms/sample - loss: 0.0414 - mae: 0.1488 - val_loss: 0.1060 - val_mae: 0.2328\n",
      "Epoch 25/100\n",
      "404/404 [==============================] - 1s 2ms/sample - loss: 0.0394 - mae: 0.1449 - val_loss: 0.1200 - val_mae: 0.2506\n",
      "Epoch 26/100\n",
      "404/404 [==============================] - 1s 2ms/sample - loss: 0.0423 - mae: 0.1472 - val_loss: 0.1044 - val_mae: 0.2323\n",
      "Epoch 27/100\n",
      "404/404 [==============================] - 1s 2ms/sample - loss: 0.0393 - mae: 0.1457 - val_loss: 0.1065 - val_mae: 0.2434\n",
      "Epoch 28/100\n",
      "404/404 [==============================] - 1s 2ms/sample - loss: 0.0607 - mae: 0.1608 - val_loss: 0.1188 - val_mae: 0.2456\n",
      "Epoch 29/100\n",
      "404/404 [==============================] - 1s 2ms/sample - loss: 0.0367 - mae: 0.1411 - val_loss: 0.1089 - val_mae: 0.2329\n",
      "Epoch 30/100\n",
      "404/404 [==============================] - 1s 2ms/sample - loss: 0.0352 - mae: 0.1369 - val_loss: 0.1227 - val_mae: 0.2544\n",
      "Epoch 31/100\n",
      "404/404 [==============================] - 1s 2ms/sample - loss: 0.0451 - mae: 0.1494 - val_loss: 0.1112 - val_mae: 0.2526\n",
      "Epoch 32/100\n",
      "404/404 [==============================] - 1s 2ms/sample - loss: 0.0413 - mae: 0.1429 - val_loss: 0.1154 - val_mae: 0.2537\n",
      "Epoch 33/100\n",
      "404/404 [==============================] - 1s 2ms/sample - loss: 0.0342 - mae: 0.1367 - val_loss: 0.0998 - val_mae: 0.2317\n",
      "Epoch 34/100\n",
      "404/404 [==============================] - 1s 2ms/sample - loss: 0.0318 - mae: 0.1304 - val_loss: 0.1278 - val_mae: 0.2680\n",
      "Epoch 35/100\n",
      "404/404 [==============================] - 1s 2ms/sample - loss: 0.0390 - mae: 0.1426 - val_loss: 0.1155 - val_mae: 0.2445\n",
      "Epoch 36/100\n",
      "404/404 [==============================] - 1s 2ms/sample - loss: 0.0433 - mae: 0.1433 - val_loss: 0.1169 - val_mae: 0.2478\n",
      "Epoch 37/100\n",
      "404/404 [==============================] - 1s 2ms/sample - loss: 0.0370 - mae: 0.1355 - val_loss: 0.1003 - val_mae: 0.2253\n",
      "Epoch 38/100\n",
      "404/404 [==============================] - 1s 2ms/sample - loss: 0.0294 - mae: 0.1237 - val_loss: 0.1197 - val_mae: 0.2541\n",
      "Epoch 39/100\n",
      "404/404 [==============================] - 1s 2ms/sample - loss: 0.0332 - mae: 0.1345 - val_loss: 0.1150 - val_mae: 0.2423\n",
      "Epoch 40/100\n",
      "404/404 [==============================] - 1s 2ms/sample - loss: 0.0352 - mae: 0.1313 - val_loss: 0.1070 - val_mae: 0.2315\n",
      "Epoch 41/100\n",
      "404/404 [==============================] - 1s 2ms/sample - loss: 0.0319 - mae: 0.1237 - val_loss: 0.1156 - val_mae: 0.2591\n",
      "Epoch 42/100\n",
      "404/404 [==============================] - 1s 2ms/sample - loss: 0.0302 - mae: 0.1228 - val_loss: 0.1325 - val_mae: 0.2498\n",
      "Epoch 43/100\n",
      "404/404 [==============================] - 1s 2ms/sample - loss: 0.0298 - mae: 0.1283 - val_loss: 0.1029 - val_mae: 0.2300\n",
      "Epoch 44/100\n",
      "404/404 [==============================] - 1s 2ms/sample - loss: 0.0310 - mae: 0.1288 - val_loss: 0.1406 - val_mae: 0.2748\n",
      "Epoch 45/100\n",
      "404/404 [==============================] - 1s 2ms/sample - loss: 0.0255 - mae: 0.1170 - val_loss: 0.1116 - val_mae: 0.2374\n",
      "Epoch 46/100\n",
      "404/404 [==============================] - 1s 2ms/sample - loss: 0.0273 - mae: 0.1207 - val_loss: 0.1187 - val_mae: 0.2327\n",
      "Epoch 47/100\n",
      "404/404 [==============================] - 1s 2ms/sample - loss: 0.0269 - mae: 0.1211 - val_loss: 0.1173 - val_mae: 0.2474\n",
      "Epoch 48/100\n",
      "404/404 [==============================] - 1s 2ms/sample - loss: 0.0375 - mae: 0.1333 - val_loss: 0.1246 - val_mae: 0.2595\n",
      "Epoch 49/100\n",
      "404/404 [==============================] - 1s 2ms/sample - loss: 0.0346 - mae: 0.1311 - val_loss: 0.1117 - val_mae: 0.2369\n",
      "Epoch 50/100\n",
      "404/404 [==============================] - 1s 2ms/sample - loss: 0.0324 - mae: 0.1278 - val_loss: 0.1068 - val_mae: 0.2361\n",
      "Epoch 51/100\n",
      "404/404 [==============================] - 1s 2ms/sample - loss: 0.0271 - mae: 0.1203 - val_loss: 0.1094 - val_mae: 0.2275\n",
      "Epoch 52/100\n",
      "404/404 [==============================] - 1s 2ms/sample - loss: 0.0256 - mae: 0.1134 - val_loss: 0.1200 - val_mae: 0.2468\n",
      "Epoch 53/100\n",
      "404/404 [==============================] - 1s 2ms/sample - loss: 0.0273 - mae: 0.1171 - val_loss: 0.1257 - val_mae: 0.2484\n",
      "Epoch 54/100\n",
      "404/404 [==============================] - 1s 2ms/sample - loss: 0.0378 - mae: 0.1319 - val_loss: 0.1031 - val_mae: 0.2239\n",
      "Epoch 55/100\n",
      "404/404 [==============================] - 1s 2ms/sample - loss: 0.0227 - mae: 0.1075 - val_loss: 0.1269 - val_mae: 0.2477\n",
      "Epoch 56/100\n",
      "404/404 [==============================] - 1s 2ms/sample - loss: 0.0258 - mae: 0.1165 - val_loss: 0.1196 - val_mae: 0.2363\n",
      "Epoch 57/100\n",
      "404/404 [==============================] - 1s 2ms/sample - loss: 0.0321 - mae: 0.1255 - val_loss: 0.1018 - val_mae: 0.2196\n",
      "Epoch 58/100\n",
      "404/404 [==============================] - 1s 2ms/sample - loss: 0.0251 - mae: 0.1122 - val_loss: 0.1261 - val_mae: 0.2476\n",
      "Epoch 59/100\n",
      "404/404 [==============================] - 1s 2ms/sample - loss: 0.0297 - mae: 0.1188 - val_loss: 0.1208 - val_mae: 0.2476\n",
      "Epoch 60/100\n",
      "404/404 [==============================] - 1s 2ms/sample - loss: 0.0243 - mae: 0.1042 - val_loss: 0.1172 - val_mae: 0.2392\n"
     ]
    },
    {
     "name": "stdout",
     "output_type": "stream",
     "text": [
      "Epoch 61/100\n",
      "404/404 [==============================] - 1s 2ms/sample - loss: 0.0260 - mae: 0.1176 - val_loss: 0.1195 - val_mae: 0.2432\n",
      "Epoch 62/100\n",
      "404/404 [==============================] - 1s 2ms/sample - loss: 0.0211 - mae: 0.1060 - val_loss: 0.1173 - val_mae: 0.2332\n",
      "Epoch 63/100\n",
      "404/404 [==============================] - 1s 2ms/sample - loss: 0.0241 - mae: 0.1106 - val_loss: 0.1520 - val_mae: 0.2746\n",
      "Epoch 64/100\n",
      "404/404 [==============================] - 1s 2ms/sample - loss: 0.0222 - mae: 0.1083 - val_loss: 0.1264 - val_mae: 0.2469\n",
      "Epoch 65/100\n",
      "404/404 [==============================] - 1s 2ms/sample - loss: 0.0287 - mae: 0.1166 - val_loss: 0.0972 - val_mae: 0.2236\n",
      "Epoch 66/100\n",
      "404/404 [==============================] - 1s 2ms/sample - loss: 0.0196 - mae: 0.0994 - val_loss: 0.1151 - val_mae: 0.2421\n",
      "Epoch 67/100\n",
      "404/404 [==============================] - 1s 2ms/sample - loss: 0.0274 - mae: 0.1151 - val_loss: 0.1209 - val_mae: 0.2502\n",
      "Epoch 68/100\n",
      "404/404 [==============================] - 1s 2ms/sample - loss: 0.0236 - mae: 0.1065 - val_loss: 0.1200 - val_mae: 0.2507\n",
      "Epoch 69/100\n",
      "404/404 [==============================] - 1s 2ms/sample - loss: 0.0253 - mae: 0.1113 - val_loss: 0.1199 - val_mae: 0.2437\n",
      "Epoch 70/100\n",
      "404/404 [==============================] - 1s 2ms/sample - loss: 0.0222 - mae: 0.1087 - val_loss: 0.1114 - val_mae: 0.2410\n",
      "Epoch 71/100\n",
      "404/404 [==============================] - 1s 2ms/sample - loss: 0.0217 - mae: 0.1011 - val_loss: 0.1343 - val_mae: 0.2748\n",
      "Epoch 72/100\n",
      "404/404 [==============================] - 1s 2ms/sample - loss: 0.0219 - mae: 0.1089 - val_loss: 0.1273 - val_mae: 0.2555\n",
      "Epoch 73/100\n",
      "404/404 [==============================] - 1s 2ms/sample - loss: 0.0172 - mae: 0.0946 - val_loss: 0.1115 - val_mae: 0.2336\n",
      "Epoch 74/100\n",
      "404/404 [==============================] - 1s 2ms/sample - loss: 0.0171 - mae: 0.0977 - val_loss: 0.1173 - val_mae: 0.2419\n",
      "Epoch 75/100\n",
      "404/404 [==============================] - 1s 2ms/sample - loss: 0.0205 - mae: 0.1017 - val_loss: 0.1049 - val_mae: 0.2375\n",
      "Epoch 76/100\n",
      "404/404 [==============================] - 1s 2ms/sample - loss: 0.0223 - mae: 0.1058 - val_loss: 0.1119 - val_mae: 0.2388\n",
      "Epoch 77/100\n",
      "404/404 [==============================] - 1s 2ms/sample - loss: 0.0252 - mae: 0.1049 - val_loss: 0.1094 - val_mae: 0.2328\n",
      "Epoch 78/100\n",
      "404/404 [==============================] - 1s 2ms/sample - loss: 0.0199 - mae: 0.1020 - val_loss: 0.1128 - val_mae: 0.2371\n",
      "Epoch 79/100\n",
      "404/404 [==============================] - 1s 2ms/sample - loss: 0.0193 - mae: 0.1012 - val_loss: 0.1221 - val_mae: 0.2547\n",
      "Epoch 80/100\n",
      "404/404 [==============================] - 1s 2ms/sample - loss: 0.0160 - mae: 0.0899 - val_loss: 0.1138 - val_mae: 0.2451\n",
      "Epoch 81/100\n",
      "404/404 [==============================] - 1s 2ms/sample - loss: 0.0186 - mae: 0.0986 - val_loss: 0.1176 - val_mae: 0.2487\n",
      "Epoch 82/100\n",
      "404/404 [==============================] - 1s 2ms/sample - loss: 0.0226 - mae: 0.1077 - val_loss: 0.1273 - val_mae: 0.2601\n",
      "Epoch 83/100\n",
      "404/404 [==============================] - 1s 2ms/sample - loss: 0.0222 - mae: 0.1070 - val_loss: 0.1139 - val_mae: 0.2441\n",
      "Epoch 84/100\n",
      "404/404 [==============================] - 1s 2ms/sample - loss: 0.0271 - mae: 0.1047 - val_loss: 0.1199 - val_mae: 0.2486\n",
      "Epoch 85/100\n",
      "404/404 [==============================] - 1s 2ms/sample - loss: 0.0172 - mae: 0.0936 - val_loss: 0.1126 - val_mae: 0.2455\n",
      "Epoch 86/100\n",
      "404/404 [==============================] - 1s 2ms/sample - loss: 0.0191 - mae: 0.0977 - val_loss: 0.1265 - val_mae: 0.2591\n",
      "Epoch 87/100\n",
      "404/404 [==============================] - 1s 2ms/sample - loss: 0.0191 - mae: 0.0969 - val_loss: 0.1215 - val_mae: 0.2474\n",
      "Epoch 88/100\n",
      "404/404 [==============================] - 1s 2ms/sample - loss: 0.0219 - mae: 0.1043 - val_loss: 0.1187 - val_mae: 0.2453\n",
      "Epoch 89/100\n",
      "404/404 [==============================] - 1s 2ms/sample - loss: 0.0249 - mae: 0.1033 - val_loss: 0.1044 - val_mae: 0.2315\n",
      "Epoch 90/100\n",
      "404/404 [==============================] - 1s 2ms/sample - loss: 0.0165 - mae: 0.0887 - val_loss: 0.1178 - val_mae: 0.2423\n",
      "Epoch 91/100\n",
      "404/404 [==============================] - 1s 2ms/sample - loss: 0.0191 - mae: 0.0976 - val_loss: 0.1111 - val_mae: 0.2357\n",
      "Epoch 92/100\n",
      "404/404 [==============================] - 1s 2ms/sample - loss: 0.0163 - mae: 0.0921 - val_loss: 0.1240 - val_mae: 0.2588\n",
      "Epoch 93/100\n",
      "334/404 [=======================>......] - ETA: 0s - loss: 0.0151 - mae: 0.0868"
     ]
    }
   ],
   "source": [
    "history = model.fit(X_train, y_train,\n",
    "                    batch_size=1,\n",
    "                    epochs=100,\n",
    "                    verbose=1,\n",
    "                    validation_data=(X_test, y_test))"
   ]
  },
  {
   "cell_type": "code",
   "execution_count": null,
   "metadata": {},
   "outputs": [],
   "source": []
  }
 ],
 "metadata": {
  "kernelspec": {
   "display_name": "Python 3",
   "language": "python",
   "name": "python3"
  },
  "language_info": {
   "codemirror_mode": {
    "name": "ipython",
    "version": 3
   },
   "file_extension": ".py",
   "mimetype": "text/x-python",
   "name": "python",
   "nbconvert_exporter": "python",
   "pygments_lexer": "ipython3",
   "version": "3.6.9"
  }
 },
 "nbformat": 4,
 "nbformat_minor": 4
}
